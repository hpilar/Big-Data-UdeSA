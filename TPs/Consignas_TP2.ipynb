{
  "cells": [
    {
      "cell_type": "markdown",
      "metadata": {
        "id": "RhBlm6mZ-c9e"
      },
      "source": [
        "### Reglas de formato y presentación\n",
        "- El trabajo debe estar bien comentado (utilizando #) para que el código sea fácil de entender por sus compañeros y profesores.\n",
        "\n",
        "- El mismo debe ser completado en este Jupyter Notebook y entregado como tal, es decir en un archivo .ipynb\n"
      ]
    },
    {
      "cell_type": "markdown",
      "metadata": {
        "collapsed": true,
        "id": "Dh8MkXaG-c9Y",
        "jupyter": {
          "outputs_hidden": true
        }
      },
      "source": [
        "# Big Data\n",
        "## Trabajo Práctico 2"
      ]
    },
    {
      "cell_type": "markdown",
      "metadata": {
        "id": "N9TU2y7E-c9h"
      },
      "source": [
        "### Modalidad de entrega\n",
        "- Al finalizar el trabajo práctico deben hacer un último <i>commit</i> en su repositorio de GitHub con el mensaje “Entrega final del tp”.\n",
        "- Asegurense de haber creado una carpeta llamada TP2\n",
        "- La última versión en el repositorio es la que será evaluada. Por lo que es importante que:\n",
        "    - No hagan nuevos <i>push</i> despues de haber entregado su versión final. Esto generaría confusión acerca de que versión es la que quieren que se les corrija."
      ]
    },
    {
      "cell_type": "markdown",
      "metadata": {
        "id": "ZEjGaa4U-c9g"
      },
      "source": [
        "### Fecha de entrega:\n",
        "Viernes 24 de octubre a las 23:59hs"
      ]
    },
    {
      "cell_type": "markdown",
      "metadata": {
        "id": "a-lNmjtebSIQ"
      },
      "source": [
        "### Parte A"
      ]
    },
    {
      "cell_type": "markdown",
      "metadata": {
        "id": "ZXbrPraa-c9i"
      },
      "source": [
        "#### Ejercicio 1\n",
        "Usando la API de Yahoo Finance, obtener la serie de alguna acción. Pueden buscar cualquier acción de su interés."
      ]
    },
    {
      "cell_type": "markdown",
      "metadata": {
        "id": "9O7PhBScbSIR"
      },
      "source": [
        "#### Ejercicio 2\n",
        "Guarden los precios de los ítems obtenidos en un dataframe y calculen el precio promedio, el mínimo y el máximo."
      ]
    },
    {
      "cell_type": "markdown",
      "metadata": {
        "id": "HjC1L-5ebSIS"
      },
      "source": [
        "#### Ejercicio 3\n",
        "Armen un histograma de los precios usando Matplotlib. ¿Ven algún <i>outlier<i>?"
      ]
    },
    {
      "cell_type": "markdown",
      "metadata": {
        "id": "_JRpuNYNbSIS"
      },
      "source": [
        "#### Ejercicio 4\n",
        "Busquen una api que no se haya trabajado en clase y realicen un request. Puede ser cualquier api, por ejemplo hay una api climática llamada Open Meteo, Spotify, etc. Expliquen los pasos que siguen."
      ]
    },
    {
      "cell_type": "markdown",
      "metadata": {
        "id": "ygGRd2nKbSIT"
      },
      "source": [
        "### Parte B"
      ]
    },
    {
      "cell_type": "markdown",
      "metadata": {
        "id": "x-hJQX1BbSIT"
      },
      "source": [
        "#### Ejercicio 5\n",
        "De la página de noticias de [Infobae](https://www.infobae.com/), utilicen herramientas de web scraping para obtener los links de las noticias de la portada. Guarden los links obtenidos en un dataframe y expórtenlo a un archivo de excel.\n",
        "\n",
        "Nota 1: es posible que logren obtener los links a las noticias sin el dominio: \"https://www.infobae.com/\". De ser así, concatenen el dominio a la ruta del link obtenido, tal que se obtenga un link al que se pueda acceder. Es decir, que las cadenas de caracteres finales tendrán la forma: https://www.infobae.com/*texto_obtenido*)\n",
        "\n",
        "Nota 2: junto con su entrega, adjunten una captura de la página de noticias al momento de correr su código. Eso servirá al momento de la corrección para verificar que los links obtenidos hacen referencia a las noticias de ese día y hora."
      ]
    },
    {
      "cell_type": "markdown",
      "source": [
        "#### Ejercicio 6\n",
        "Realicen un análisis de sentimiento para los títulos de las noticias que encontraron. Reporten los 3 títulos más positivos y los 3 más negativos, junto con el valor obtenido."
      ],
      "metadata": {
        "id": "wiyynWA_cbyl"
      }
    }
  ],
  "metadata": {
    "anaconda-cloud": {},
    "colab": {
      "provenance": []
    },
    "kernelspec": {
      "display_name": "Python 3 (ipykernel)",
      "language": "python",
      "name": "python3"
    },
    "language_info": {
      "codemirror_mode": {
        "name": "ipython",
        "version": 3
      },
      "file_extension": ".py",
      "mimetype": "text/x-python",
      "name": "python",
      "nbconvert_exporter": "python",
      "pygments_lexer": "ipython3",
      "version": "3.11.7"
    }
  },
  "nbformat": 4,
  "nbformat_minor": 0
}