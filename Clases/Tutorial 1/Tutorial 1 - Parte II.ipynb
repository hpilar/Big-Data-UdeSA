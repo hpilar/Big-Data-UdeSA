{
 "cells": [
  {
   "cell_type": "markdown",
   "metadata": {},
   "source": [
    "# Big Data\n",
    "## Tutorial 1. Introducción a Python (parte II)\n",
    "\n",
    "El objetivo de esta tutorial es continuar conociendo cómo trabajar en Python\n",
    "* Funciones\n",
    "* Manejo de errores\n",
    "* Módulos\n",
    "* Importar/exportar archivos txt\n",
    "* Importar/exportar archivos de tablas"
   ]
  },
  {
   "cell_type": "markdown",
   "metadata": {},
   "source": [
    "### Funciones \n",
    "\n",
    "Las funciones permiten definir un bloque de código reutilizable que se puede ejecutar muchas veces dentro de un programa. \n",
    "Sirven para modularizar el código, hacerlo más reutilizable y fácil de leer, corregir y mantener.\n",
    "\n",
    "Las funciones toman argumentos (inputs) y devuelven (o no) outputs.\n",
    "\n",
    "Para crear una función comenzamos con 'def', luego un nombre para la función, luego entre ( ) ponemos los argumentos o parámetros y finalmente ':'\n",
    "\n",
    "<img src=\"https://media.geeksforgeeks.org/wp-content/uploads/20220721172423/51.png\" />"
   ]
  },
  {
   "cell_type": "code",
   "execution_count": 1,
   "metadata": {},
   "outputs": [],
   "source": [
    "def pbi_per_capita(pbi_millones, pob_millones):\n",
    "    pbi_pc = round(pbi_millones/pob_millones) # Hay que respetar la sangría\n",
    "    return pbi_pc"
   ]
  },
  {
   "cell_type": "code",
   "execution_count": 2,
   "metadata": {},
   "outputs": [],
   "source": [
    "bra_carac = {'cod':'BRA', 'pob_millones':211, 'pbi_millones':1810612}\n",
    "chl_carac = {'cod':'CHL', 'pob_millones':18.9, 'pbi_millones':352664}\n",
    "pry_carac = {'cod':'PRY', 'pob_millones':7, 'pbi_millones':39197}\n",
    "ury_carac = {'cod':'URY', 'pob_millones':3.4, 'pbi_millones':63741}"
   ]
  },
  {
   "cell_type": "markdown",
   "metadata": {},
   "source": [
    "Para usar una función, escribimos el nombre y entre ( ) ponemos los argumentos"
   ]
  },
  {
   "cell_type": "code",
   "execution_count": 3,
   "metadata": {},
   "outputs": [
    {
     "name": "stdout",
     "output_type": "stream",
     "text": [
      "18747\n",
      "18747\n",
      "18747\n",
      "18747\n"
     ]
    }
   ],
   "source": [
    "# Para el caso de Uruguay podríamos calcular:\n",
    "print(pbi_per_capita(63741, 3.4)) # si no se indica el nombre del argumento, respetar el orden en que se definieron\n",
    "print(pbi_per_capita(pob_millones=3.4, pbi_millones=63741))\n",
    "print(pbi_per_capita(pbi_millones=63741, pob_millones=3.4)) # si se aclara el nombre del argumento, el orden es indistinto\n",
    "print(pbi_per_capita(ury_carac['pbi_millones'], ury_carac['pob_millones']))"
   ]
  },
  {
   "cell_type": "markdown",
   "metadata": {},
   "source": [
    "Los argumentos de las funciones pueden tener un valor predefinido (por defecto) o no.\n",
    "\n",
    "Los argumentos que no tienen un valor predefinido se llaman **argumentos posicionales**, mientras que los que sí tienen un valor predefinido se llaman **argumentos por nombre**. \n",
    "Un punto importante a la hora de definir la función es que si para algún atributo queremos poner un valor por defecto, este debe presentarse luego de los atributos que estén sin un valor predefinido"
   ]
  },
  {
   "cell_type": "code",
   "execution_count": 4,
   "metadata": {},
   "outputs": [],
   "source": [
    "def pbi_per_capita(pbi, pob, pbi_mm = False): # pbi y pob son argum. posicionales mientras que pbi_mm es un argum. por nombre\n",
    "    if pbi_mm == True: # equivale a if pbi_mm == True :\n",
    "        pbi_pc = round(pbi*1000/pob)\n",
    "    else:\n",
    "        pbi_pc = round(pbi/pob)\n",
    "    return pbi_pc"
   ]
  },
  {
   "cell_type": "code",
   "execution_count": 5,
   "metadata": {},
   "outputs": [
    {
     "name": "stdout",
     "output_type": "stream",
     "text": [
      "8581\n",
      "8581\n",
      "8581\n",
      "8581\n"
     ]
    }
   ],
   "source": [
    "print(pbi_per_capita(1810612, 211)) # pbi_mm = False\n",
    "print(pbi_per_capita(1810.612, 211, pbi_mm=True))\n",
    "print(pbi_per_capita(pob=211, pbi=1810612))\n",
    "print(pbi_per_capita(1810.612, 211, True))"
   ]
  },
  {
   "cell_type": "markdown",
   "metadata": {},
   "source": [
    "Los valores predefinidos generan que a veces no sea suficiente con especificar los valores de los atributos solo por la posición"
   ]
  },
  {
   "cell_type": "code",
   "execution_count": 6,
   "metadata": {},
   "outputs": [],
   "source": [
    "def pbi_per_capita(pbi, pob, pbi_mm = False, pbi_billon = False):\n",
    "    if pbi_mm: # equivale a if pbi_mm == True :\n",
    "        pbi_pc = round(pbi*1000/pob)\n",
    "    elif pbi_billon: # equivale a if pbi_billon == True\n",
    "        pbi_pc = round(pbi*1000000/pob)\n",
    "    else:\n",
    "        pbi_pc = round(pbi/pob)\n",
    "    return pbi_pc"
   ]
  },
  {
   "cell_type": "code",
   "execution_count": 10,
   "metadata": {},
   "outputs": [
    {
     "name": "stdout",
     "output_type": "stream",
     "text": [
      "8581\n",
      "8581\n",
      "8581\n"
     ]
    }
   ],
   "source": [
    "print(pbi_per_capita(1810612, 211)) #pbi_mm = False, pbi_billon = False\n",
    "print(pbi_per_capita(1810.612, 211, True, False))\n",
    "print(pbi_per_capita(1.810612, 211, pbi_billon=True)) # Como ahora hay 2 argumentos booleanos, tenemos que indicar a cuál nos referimos"
   ]
  },
  {
   "cell_type": "code",
   "execution_count": 11,
   "metadata": {},
   "outputs": [
    {
     "data": {
      "text/plain": [
       "0"
      ]
     },
     "execution_count": 11,
     "metadata": {},
     "output_type": "execute_result"
    }
   ],
   "source": [
    "# Notar que: \n",
    "# 1. Si invertimos el orden, el resultado cambia\n",
    "pbi_per_capita(211, 1810612)"
   ]
  },
  {
   "cell_type": "code",
   "execution_count": 12,
   "metadata": {},
   "outputs": [
    {
     "ename": "SyntaxError",
     "evalue": "positional argument follows keyword argument (378198173.py, line 2)",
     "output_type": "error",
     "traceback": [
      "\u001b[1;36m  Cell \u001b[1;32mIn[12], line 2\u001b[1;36m\u001b[0m\n\u001b[1;33m    pbi_per_capita(pbi_billon=True, 1.810612, 211)\u001b[0m\n\u001b[1;37m                                                 ^\u001b[0m\n\u001b[1;31mSyntaxError\u001b[0m\u001b[1;31m:\u001b[0m positional argument follows keyword argument\n"
     ]
    }
   ],
   "source": [
    "# 2. Si al llamar a la función definimos los argumentos por nombre antes de los posicionales, tendremos un error\n",
    "pbi_per_capita(pbi_billon=True, 1.810612, 211)"
   ]
  },
  {
   "cell_type": "markdown",
   "metadata": {},
   "source": [
    "Un DocString es una de cadena de caracteres (strings) o varias líneas, delimitado por comillas, que aparece al comienzo de un módulo, clase, método o función y describe lo que hace la función, sirven para documentar el código.\n",
    "\n",
    "A diferencia de los comentarios, los DocStrings los definimos con comillas y podemos \"acceder\" a ellos con el método .__doc__ luego del nombre de la función/método creado.\n",
    "\n",
    "(También podemos usar los comentarios de varias lineas con las comillas)"
   ]
  },
  {
   "cell_type": "code",
   "execution_count": 13,
   "metadata": {},
   "outputs": [],
   "source": [
    "def pbi_per_capita(pbi_millones, pob_millones):\n",
    "    \"\"\"\n",
    "    Esta función calcula el PBI per cápita\n",
    "    Input:\n",
    "    pbi_millones: el PBI en millones de un país 'X'\n",
    "    pob_millones: la población en millones de un país 'X'\n",
    "    Output :\n",
    "    pbi_pc: el PBI per cápita del país 'X'\n",
    "    \"\"\"\n",
    "    pbi_pc = round(pbi_millones/pob_millones)\n",
    "    return pbi_pc"
   ]
  },
  {
   "cell_type": "markdown",
   "metadata": {},
   "source": [
    "Dos formas de acceder al DocString de la función:"
   ]
  },
  {
   "cell_type": "code",
   "execution_count": 14,
   "metadata": {},
   "outputs": [
    {
     "name": "stdout",
     "output_type": "stream",
     "text": [
      "Help on function pbi_per_capita in module __main__:\n",
      "\n",
      "pbi_per_capita(pbi_millones, pob_millones)\n",
      "    Esta función calcula el PBI per cápita\n",
      "    Input:\n",
      "    pbi_millones: el PBI en millones de un país 'X'\n",
      "    pob_millones: la población en millones de un país 'X'\n",
      "    Output :\n",
      "    pbi_pc: el PBI per cápita del país 'X'\n",
      "\n"
     ]
    }
   ],
   "source": [
    "# Accedemos al Docstring\n",
    "help(pbi_per_capita)"
   ]
  },
  {
   "cell_type": "code",
   "execution_count": 15,
   "metadata": {},
   "outputs": [
    {
     "name": "stdout",
     "output_type": "stream",
     "text": [
      "\n",
      "    Esta función calcula el PBI per cápita\n",
      "    Input:\n",
      "    pbi_millones: el PBI en millones de un país 'X'\n",
      "    pob_millones: la población en millones de un país 'X'\n",
      "    Output :\n",
      "    pbi_pc: el PBI per cápita del país 'X'\n",
      "    \n"
     ]
    }
   ],
   "source": [
    "# Accedemos al Docstring\n",
    "print(pbi_per_capita.__doc__)"
   ]
  },
  {
   "cell_type": "markdown",
   "metadata": {},
   "source": [
    "Vamos con otro ejemplo"
   ]
  },
  {
   "cell_type": "code",
   "execution_count": 16,
   "metadata": {},
   "outputs": [],
   "source": [
    "# Definimos un diccionario con la información de algunos países\n",
    "\n",
    "bra_carac = {'cod':'BRA', 'pob_millones':211, 'pbi_millones':1810612}\n",
    "chl_carac = {'cod':'CHL', 'pob_millones':18.9, 'pbi_millones':352664}\n",
    "pry_carac = {'cod':'PRY', 'pob_millones':7, 'pbi_millones':39197}\n",
    "ury_carac = {'cod':'URY', 'pob_millones':3.4, 'pbi_millones':63741}\n",
    "\n",
    "paises_info = {'brasil':bra_carac, \n",
    "               'chile':chl_carac, \n",
    "               'paraguay':pry_carac, \n",
    "               'uruguay':ury_carac}"
   ]
  },
  {
   "cell_type": "code",
   "execution_count": 17,
   "metadata": {},
   "outputs": [
    {
     "data": {
      "text/plain": [
       "{'cod': 'BRA', 'pob_millones': 211, 'pbi_millones': 1810612}"
      ]
     },
     "execution_count": 17,
     "metadata": {},
     "output_type": "execute_result"
    }
   ],
   "source": [
    "paises_info['brasil']"
   ]
  },
  {
   "cell_type": "markdown",
   "metadata": {},
   "source": [
    "Podemos usar la función pbi_per_capita para agregar ese dato para cada país del diccionario 'paises_info'. Armemos un loop"
   ]
  },
  {
   "cell_type": "code",
   "execution_count": 18,
   "metadata": {
    "scrolled": true
   },
   "outputs": [
    {
     "name": "stdout",
     "output_type": "stream",
     "text": [
      "dict_keys(['brasil', 'chile', 'paraguay', 'uruguay'])\n",
      "dict_values([{'cod': 'BRA', 'pob_millones': 211, 'pbi_millones': 1810612}, {'cod': 'CHL', 'pob_millones': 18.9, 'pbi_millones': 352664}, {'cod': 'PRY', 'pob_millones': 7, 'pbi_millones': 39197}, {'cod': 'URY', 'pob_millones': 3.4, 'pbi_millones': 63741}])\n",
      "dict_items([('brasil', {'cod': 'BRA', 'pob_millones': 211, 'pbi_millones': 1810612}), ('chile', {'cod': 'CHL', 'pob_millones': 18.9, 'pbi_millones': 352664}), ('paraguay', {'cod': 'PRY', 'pob_millones': 7, 'pbi_millones': 39197}), ('uruguay', {'cod': 'URY', 'pob_millones': 3.4, 'pbi_millones': 63741})])\n"
     ]
    }
   ],
   "source": [
    "# Recordemos algunos métodos básicos propios de los diccionarios:\n",
    "# El método keys nos devuelve una lista con las keys del diccionario\n",
    "print(paises_info.keys())\n",
    "# El método values nos devuelve una lista con los valores\n",
    "print(paises_info.values())\n",
    "# El método items nos devuelve una lista con tuplas conformadas por cada par de key y value\n",
    "print(paises_info.items())"
   ]
  },
  {
   "cell_type": "code",
   "execution_count": 19,
   "metadata": {},
   "outputs": [
    {
     "data": {
      "text/plain": [
       "{'brasil': {'cod': 'BRA',\n",
       "  'pob_millones': 211,\n",
       "  'pbi_millones': 1810612,\n",
       "  'pbi_pc': 8581},\n",
       " 'chile': {'cod': 'CHL',\n",
       "  'pob_millones': 18.9,\n",
       "  'pbi_millones': 352664,\n",
       "  'pbi_pc': 18659},\n",
       " 'paraguay': {'cod': 'PRY',\n",
       "  'pob_millones': 7,\n",
       "  'pbi_millones': 39197,\n",
       "  'pbi_pc': 5600},\n",
       " 'uruguay': {'cod': 'URY',\n",
       "  'pob_millones': 3.4,\n",
       "  'pbi_millones': 63741,\n",
       "  'pbi_pc': 18747}}"
      ]
     },
     "execution_count": 19,
     "metadata": {},
     "output_type": "execute_result"
    }
   ],
   "source": [
    "for key, val in paises_info.items():\n",
    "    paises_info[key]['pbi_pc'] = pbi_per_capita(val['pbi_millones'], val['pob_millones'])\n",
    "    \n",
    "'''\n",
    "Como usamos el método items, tenemos una lista con tuplas (key, value) del diccionario. El loop itera por esa lista. \n",
    "En cada iteración el loop reemplaza: \n",
    "- key por el primer elemento de cada una de las tuplas (nombre el país) y \n",
    "- val por el segundo elemento de cada una de las tuplas (diccionario de cada país)\n",
    "'''\n",
    "\n",
    "paises_info"
   ]
  },
  {
   "cell_type": "code",
   "execution_count": 20,
   "metadata": {
    "scrolled": true
   },
   "outputs": [
    {
     "data": {
      "text/plain": [
       "['__new__',\n",
       " '__repr__',\n",
       " '__hash__',\n",
       " '__getattribute__',\n",
       " '__lt__',\n",
       " '__le__',\n",
       " '__eq__',\n",
       " '__ne__',\n",
       " '__gt__',\n",
       " '__ge__',\n",
       " '__iter__',\n",
       " '__init__',\n",
       " '__or__',\n",
       " '__ror__',\n",
       " '__ior__',\n",
       " '__len__',\n",
       " '__getitem__',\n",
       " '__setitem__',\n",
       " '__delitem__',\n",
       " '__contains__',\n",
       " '__sizeof__',\n",
       " 'get',\n",
       " 'setdefault',\n",
       " 'pop',\n",
       " 'popitem',\n",
       " 'keys',\n",
       " 'items',\n",
       " 'values',\n",
       " 'update',\n",
       " 'fromkeys',\n",
       " 'clear',\n",
       " 'copy',\n",
       " '__reversed__',\n",
       " '__class_getitem__',\n",
       " '__doc__',\n",
       " '__str__',\n",
       " '__setattr__',\n",
       " '__delattr__',\n",
       " '__reduce_ex__',\n",
       " '__reduce__',\n",
       " '__getstate__',\n",
       " '__subclasshook__',\n",
       " '__init_subclass__',\n",
       " '__format__',\n",
       " '__dir__',\n",
       " '__class__']"
      ]
     },
     "execution_count": 20,
     "metadata": {},
     "output_type": "execute_result"
    }
   ],
   "source": [
    "# Podemos ver qué otros métodos hay disponibles para este tipo de objeto (diccionarios) y que propiedades tienen usando dir\n",
    "paises_info.__dir__() "
   ]
  },
  {
   "cell_type": "markdown",
   "metadata": {},
   "source": [
    "Funciones: ámbito interno vs ámbito global\n",
    "\n",
    "- **Ámbito interno**: contiene las variables locales (por ejemplo, de una función)\n",
    "- **Ámbito global**: contiene las variables globales del módulo actual"
   ]
  },
  {
   "cell_type": "code",
   "execution_count": 21,
   "metadata": {},
   "outputs": [],
   "source": [
    "a = 3 # a definida en ámbito global\n",
    "\n",
    "def suma_uno(numero):\n",
    "    a = numero + 1 # a definida en ámbito interno\n",
    "    print(a)"
   ]
  },
  {
   "cell_type": "code",
   "execution_count": 22,
   "metadata": {},
   "outputs": [
    {
     "name": "stdout",
     "output_type": "stream",
     "text": [
      "11\n"
     ]
    }
   ],
   "source": [
    "suma_uno(10)"
   ]
  },
  {
   "cell_type": "code",
   "execution_count": 23,
   "metadata": {},
   "outputs": [
    {
     "name": "stdout",
     "output_type": "stream",
     "text": [
      "3\n"
     ]
    }
   ],
   "source": [
    "print(a)"
   ]
  },
  {
   "cell_type": "markdown",
   "metadata": {},
   "source": [
    "El ámbito interno de la función \"tapa\" al ámbito global (al convocar a la función la variable a que se imprime es la que definimos en el ámbito local)"
   ]
  },
  {
   "cell_type": "markdown",
   "metadata": {},
   "source": [
    "Otro ejemplo más de una función para que indaguen"
   ]
  },
  {
   "cell_type": "code",
   "execution_count": 24,
   "metadata": {},
   "outputs": [
    {
     "name": "stdout",
     "output_type": "stream",
     "text": [
      "El número 3 es Impar\n"
     ]
    }
   ],
   "source": [
    "def es_par(x):\n",
    "    string_x = str(x)\n",
    "    if x % 2 == 0:\n",
    "        frase_par = \"El número \" + string_x + \" es Par\"\n",
    "        print(frase_par)\n",
    "    else:\n",
    "        frase_impar = \"El número \" + string_x + \" es Impar\"\n",
    "        print(frase_impar)\n",
    "           \n",
    "es_par(3)"
   ]
  },
  {
   "cell_type": "markdown",
   "metadata": {},
   "source": [
    "### Manejo de errores\n",
    "\n",
    "Al momento de aprender, cometer errores e ir viendo los motivos por los cuales surgieron nos ayuda a entender mejor cómo funciona Python\n",
    "\n",
    "Los print() son útiles para esto"
   ]
  },
  {
   "cell_type": "code",
   "execution_count": 25,
   "metadata": {},
   "outputs": [],
   "source": [
    "def suma_uno(lista):\n",
    "    for elem in lista:\n",
    "        elem + 1"
   ]
  },
  {
   "cell_type": "code",
   "execution_count": 26,
   "metadata": {},
   "outputs": [
    {
     "ename": "TypeError",
     "evalue": "can only concatenate str (not \"int\") to str",
     "output_type": "error",
     "traceback": [
      "\u001b[1;31m---------------------------------------------------------------------------\u001b[0m",
      "\u001b[1;31mTypeError\u001b[0m                                 Traceback (most recent call last)",
      "Cell \u001b[1;32mIn[26], line 2\u001b[0m\n\u001b[0;32m      1\u001b[0m mi_lista \u001b[38;5;241m=\u001b[39m [\u001b[38;5;241m1\u001b[39m, \u001b[38;5;241m2\u001b[39m, \u001b[38;5;124m'\u001b[39m\u001b[38;5;124ma\u001b[39m\u001b[38;5;124m'\u001b[39m]\n\u001b[1;32m----> 2\u001b[0m \u001b[43msuma_uno\u001b[49m\u001b[43m(\u001b[49m\u001b[43mmi_lista\u001b[49m\u001b[43m)\u001b[49m \u001b[38;5;66;03m# vemos que el error es que intentamos concatenar un número (int)\u001b[39;00m\n",
      "Cell \u001b[1;32mIn[25], line 3\u001b[0m, in \u001b[0;36msuma_uno\u001b[1;34m(lista)\u001b[0m\n\u001b[0;32m      1\u001b[0m \u001b[38;5;28;01mdef\u001b[39;00m \u001b[38;5;21msuma_uno\u001b[39m(lista):\n\u001b[0;32m      2\u001b[0m     \u001b[38;5;28;01mfor\u001b[39;00m elem \u001b[38;5;129;01min\u001b[39;00m lista:\n\u001b[1;32m----> 3\u001b[0m         \u001b[43melem\u001b[49m\u001b[43m \u001b[49m\u001b[38;5;241;43m+\u001b[39;49m\u001b[43m \u001b[49m\u001b[38;5;241;43m1\u001b[39;49m\n",
      "\u001b[1;31mTypeError\u001b[0m: can only concatenate str (not \"int\") to str"
     ]
    }
   ],
   "source": [
    "mi_lista = [1, 2, 'a']\n",
    "suma_uno(mi_lista) # vemos que el error es que intentamos concatenar un número (int)"
   ]
  },
  {
   "cell_type": "code",
   "execution_count": 27,
   "metadata": {},
   "outputs": [],
   "source": [
    "def suma_uno(lista, depurar=False):\n",
    "    for elem in lista:\n",
    "        if depurar:\n",
    "            print('item:', elem, 'tipo:', type(elem))\n",
    "        elem + 1"
   ]
  },
  {
   "cell_type": "code",
   "execution_count": 28,
   "metadata": {},
   "outputs": [
    {
     "name": "stdout",
     "output_type": "stream",
     "text": [
      "item: 1 tipo: <class 'int'>\n",
      "item: 2 tipo: <class 'int'>\n"
     ]
    }
   ],
   "source": [
    "suma_uno(mi_lista[0:2], depurar=True)"
   ]
  },
  {
   "cell_type": "markdown",
   "metadata": {},
   "source": [
    "Hay algunos mecanismos para actuar cuando hay un comportamiento eróneo o inesperado.\n",
    "Para esto, se utiliza la declaración try/except"
   ]
  },
  {
   "cell_type": "code",
   "execution_count": 29,
   "metadata": {},
   "outputs": [],
   "source": [
    "def suma_uno(lista):\n",
    "    for elem in lista:\n",
    "        try:\n",
    "            print(elem + 1)\n",
    "        except:\n",
    "            print('No se puede sumar', elem, 'con 1')"
   ]
  },
  {
   "cell_type": "code",
   "execution_count": 30,
   "metadata": {},
   "outputs": [
    {
     "name": "stdout",
     "output_type": "stream",
     "text": [
      "2\n",
      "3\n",
      "No se puede sumar a con 1\n",
      "5\n",
      "6\n"
     ]
    }
   ],
   "source": [
    "mi_lista = [1, 2, 'a', 4, 5]\n",
    "suma_uno(mi_lista)"
   ]
  },
  {
   "cell_type": "markdown",
   "metadata": {},
   "source": [
    "### Módulos\n",
    "\n",
    "Un módulo es un archivo de Python (con extensión .py) que puede contener definiciones de funciones o sentencias ejecutables, y puede ser *importado* desde otros módulos o desde una sesión interactiva (y en particular, desde una sesión de Jupyter).\n",
    "\n",
    "Un módulo puede ser escrito por el usuario, y también pueden utilizarse módulos escritos por otras personas (instalándolos previamente).\n",
    "\n",
    "Permiten ampliar las funcionalidades nativas de Python y también almacenar código que uno puede querer reutilizar en el futuro (un Jupyter Notebook también permite esto último, pero los notebooks no son importables de manera directa). Así, ayudan a organizar el código y evitar repetición."
   ]
  },
  {
   "cell_type": "markdown",
   "metadata": {},
   "source": [
    "Python se distribuye con una *biblioteca estándar* preinstalada. Esta biblioteca contiene un conjunto muy amplio de paquetes para resolver problemas usuales en programación. \n",
    "\n",
    "Algunos de estos paquetes son:\n",
    "- math: para funciones matemáticas\n",
    "- os: para acceder a funcionalidades del sistema operativo\n",
    "- csv: para manejo de archivos tabulares separados por comas\n",
    "\n",
    "La lista completa se puede consultar acá: https://docs.python.org/es/3/library/index.html"
   ]
  },
  {
   "cell_type": "markdown",
   "metadata": {},
   "source": [
    "#### ¿Cómo importamos un módulo?\n",
    "\n",
    "Usando la palabra `import` seguida del nombre del módulo (que es el nombre del archivo sin la extensión .py). Por ejemplo, importemos el módulo math de la biblioteca estándar"
   ]
  },
  {
   "cell_type": "code",
   "execution_count": 31,
   "metadata": {},
   "outputs": [],
   "source": [
    "import math"
   ]
  },
  {
   "cell_type": "markdown",
   "metadata": {},
   "source": [
    "Ahora podemos usar el módulo de esta forma:"
   ]
  },
  {
   "cell_type": "code",
   "execution_count": 32,
   "metadata": {},
   "outputs": [
    {
     "name": "stdout",
     "output_type": "stream",
     "text": [
      "1.0000066849139877\n",
      "0.0\n"
     ]
    }
   ],
   "source": [
    "# log devuelve el logaritmo natural de un número\n",
    "print(math.log(2.7183))\n",
    "print(math.log(1))"
   ]
  },
  {
   "cell_type": "markdown",
   "metadata": {},
   "source": [
    "Podemos importar otros módulos. Vamos ahora con el módulo os, también de la biblioteca estándar de Python"
   ]
  },
  {
   "cell_type": "code",
   "execution_count": 33,
   "metadata": {},
   "outputs": [],
   "source": [
    "import os # Entre otras cosas, este módulo nos permite manipular rutas"
   ]
  },
  {
   "cell_type": "code",
   "execution_count": 35,
   "metadata": {},
   "outputs": [
    {
     "name": "stdout",
     "output_type": "stream",
     "text": [
      "C:\\Users\\pilih\\Documents\\UdeSA\\Teaching\\Maestría Economía\\Big Data\\Github Big Data\\Big-Data-UdeSA\\Clases\\Tutorial 1\n"
     ]
    }
   ],
   "source": [
    "# Veamos nuestro directorio actual\n",
    "print(os.getcwd())\n",
    "\n",
    "# Podemos modificar el directorio: \n",
    "#os.chdir(\"C:\\Users\\pilih\\Documents\\UdeSA\\Teaching\\Maestría Economía\\Big Data\\Github Big Data\\Big-Data-UdeSA\\Clases\\Tutorial 1\")"
   ]
  },
  {
   "cell_type": "markdown",
   "metadata": {},
   "source": [
    "Notar que por la forma en la que importamos el módulo, si queremos usar un atributo o función del módulo tenemos que cumplir este formato:\n",
    "\n",
    "`<modulo>.<atributo>`\n",
    "\n",
    "Pero hay otra forma de importar, que es usando la sintaxis `from <modulo> import <atributo>`. Veamos:"
   ]
  },
  {
   "cell_type": "code",
   "execution_count": 36,
   "metadata": {},
   "outputs": [
    {
     "data": {
      "text/plain": [
       "'C:\\\\Users\\\\pilih\\\\Documents\\\\UdeSA\\\\Teaching\\\\Maestría Economía\\\\Big Data\\\\Github Big Data\\\\Big-Data-UdeSA\\\\Clases\\\\Tutorial 1'"
      ]
     },
     "execution_count": 36,
     "metadata": {},
     "output_type": "execute_result"
    }
   ],
   "source": [
    "from os import getcwd\n",
    "\n",
    "getcwd()"
   ]
  },
  {
   "cell_type": "code",
   "execution_count": 37,
   "metadata": {},
   "outputs": [],
   "source": [
    "# Otro ejemplo\n",
    "\n",
    "from math import log"
   ]
  },
  {
   "cell_type": "markdown",
   "metadata": {},
   "source": [
    "Es decir, de esta manera no necesitamos usar el nombre del módulo (math) para acceder a su atributo (log)."
   ]
  },
  {
   "cell_type": "code",
   "execution_count": 38,
   "metadata": {},
   "outputs": [
    {
     "name": "stdout",
     "output_type": "stream",
     "text": [
      "1.0000066849139877\n",
      "0.0\n"
     ]
    }
   ],
   "source": [
    "print(log(2.7183))\n",
    "print(log(1))"
   ]
  },
  {
   "cell_type": "markdown",
   "metadata": {},
   "source": [
    "También se puede usar un alias para el atributo, de la forma `from <modulo> import <atributo> as <alias>`"
   ]
  },
  {
   "cell_type": "code",
   "execution_count": 39,
   "metadata": {},
   "outputs": [],
   "source": [
    "from math import log as ln"
   ]
  },
  {
   "cell_type": "code",
   "execution_count": 40,
   "metadata": {},
   "outputs": [
    {
     "name": "stdout",
     "output_type": "stream",
     "text": [
      "1.0000066849139877\n",
      "0.0\n"
     ]
    }
   ],
   "source": [
    "print(ln(2.7183))\n",
    "print(ln(1))"
   ]
  },
  {
   "cell_type": "markdown",
   "metadata": {},
   "source": [
    "Otro ejemplo con el módulo csv"
   ]
  },
  {
   "cell_type": "code",
   "execution_count": 41,
   "metadata": {},
   "outputs": [],
   "source": [
    "import csv"
   ]
  },
  {
   "cell_type": "code",
   "execution_count": 42,
   "metadata": {},
   "outputs": [
    {
     "name": "stdout",
     "output_type": "stream",
     "text": [
      "['nombre;nota;curso;grupo']\n",
      "['Luciano;10;Big Data;1']\n",
      "['Juana;8;Big Data;1']\n",
      "['Pedro;6;Big Data;1']\n",
      "['Joaquin;7;Big Data;2']\n",
      "['Maria;9;Big Data;2']\n",
      "['Tomas;5;Big Data;2']\n",
      "['Facundo;6;Big Data;3']\n",
      "['Lucia;8;Big Data;3']\n",
      "['Martina;9;Big Data;3']\n",
      "['Natalia;9;Big Data;4']\n",
      "['Ezequiel;8;Big Data;4']\n",
      "['Andres;7;Big Data;4']\n",
      "['Agustina;10;Big Data;5']\n",
      "['Ignacio;9;Big Data;5']\n",
      "['Martin;8;Big Data;5']\n"
     ]
    }
   ],
   "source": [
    "with open(\"ejemplo.csv\", 'r') as file:\n",
    "    archivo = csv.reader(file)\n",
    "    for row in archivo:\n",
    "        print(row)"
   ]
  },
  {
   "cell_type": "code",
   "execution_count": 43,
   "metadata": {},
   "outputs": [
    {
     "name": "stdout",
     "output_type": "stream",
     "text": [
      "['nombre;nota;curso;grupo']\n",
      "['Luciano;10;Big Data;1']\n",
      "['Juana;8;Big Data;1']\n",
      "['Pedro;6;Big Data;1']\n",
      "['Joaquin;7;Big Data;2']\n",
      "['Maria;9;Big Data;2']\n",
      "['Tomas;5;Big Data;2']\n",
      "['Facundo;6;Big Data;3']\n",
      "['Lucia;8;Big Data;3']\n",
      "['Martina;9;Big Data;3']\n",
      "['Natalia;9;Big Data;4']\n",
      "['Ezequiel;8;Big Data;4']\n",
      "['Andres;7;Big Data;4']\n",
      "['Agustina;10;Big Data;5']\n",
      "['Ignacio;9;Big Data;5']\n",
      "['Martin;8;Big Data;5']\n"
     ]
    }
   ],
   "source": [
    "from csv import reader, writer # Podemos importar más de un atributo de un módulo a la vez\n",
    "\n",
    "with open(\"ejemplo.csv\", 'r') as file:\n",
    "    archivo = reader(file)\n",
    "    for row in archivo:\n",
    "        print(row)"
   ]
  },
  {
   "cell_type": "markdown",
   "metadata": {},
   "source": [
    "### Importar/Exportar archivos txt"
   ]
  },
  {
   "cell_type": "markdown",
   "metadata": {},
   "source": [
    "#### Entrada de y salida a archivos txt\n",
    "\n",
    "open() nos permite leer o escribir un archivo"
   ]
  },
  {
   "cell_type": "code",
   "execution_count": 44,
   "metadata": {},
   "outputs": [],
   "source": [
    "f = open(\"archivo.txt\", \"w\") # write (sobreescribe)\n",
    "f.write(\"Escribimos las primeras palabras en el archivo. \\n\")\n",
    "f.close()\n",
    "\n",
    "f = open(\"archivo.txt\", \"a\") # append (agrega al final)\n",
    "f.write(\"Luego, estas palabras se agregarán al final del archivo.\")\n",
    "f.close()\n"
   ]
  },
  {
   "cell_type": "code",
   "execution_count": 45,
   "metadata": {},
   "outputs": [
    {
     "name": "stdout",
     "output_type": "stream",
     "text": [
      "Escribimos las primeras palabras en el archivo. \n",
      "Luego, estas palabras se agregarán al final del archivo.\n"
     ]
    }
   ],
   "source": [
    "f = open(\"archivo.txt\")\n",
    "print(f.read())\n",
    "\n",
    "f.close() # es importante cerrarlo!"
   ]
  },
  {
   "cell_type": "markdown",
   "metadata": {},
   "source": [
    "### Importar/Exportar archivos de tablas"
   ]
  },
  {
   "cell_type": "markdown",
   "metadata": {},
   "source": [
    "####  Instalación e introducción a Pandas\n",
    "\n",
    "Hasta acá, trabajamos con módulos que están en la biblioteca estándar de Python.\n",
    "Pero hay muchos otros.\n",
    "Para poder seguir esta clase a la par, con la consola o un Jupyter Notebook, por favor instalen la librería pandas.\n",
    "\n",
    "Pandas nos permitirá trabajar con datos en formato estructurados. Es decir con tablas de datos como las que estamos acostumbrados a trabajar en Excel o Stata, que contienen la información organizada en filas y columnas."
   ]
  },
  {
   "cell_type": "markdown",
   "metadata": {},
   "source": [
    "En la consola de Anaconda (Anaconda prompt), abran una nueva consola y escriban:\n",
    "\n",
    "`pip install pandas`\n"
   ]
  },
  {
   "cell_type": "markdown",
   "metadata": {},
   "source": [
    "Otra opción es: en el Jupyter Notebook:"
   ]
  },
  {
   "cell_type": "code",
   "execution_count": null,
   "metadata": {},
   "outputs": [],
   "source": [
    "import sys\n",
    "!{sys.executable} -m pip install pandas"
   ]
  },
  {
   "cell_type": "markdown",
   "metadata": {},
   "source": [
    "#### Importar pandas\n",
    "\n",
    "pandas es la librería más usada para este tipo de operaciones, tiene funciones y métodos que facilitan mucho el trabajo con tablas de datos (*dataframes*)\n",
    "\n",
    "En esta clase vamos a usarla para:\n",
    "- importar/exportar archivos de distintos formatos\n",
    "- exportar la tablas de datos\n",
    "\n",
    "Como primer paso, importemos la librería:"
   ]
  },
  {
   "cell_type": "code",
   "execution_count": 46,
   "metadata": {},
   "outputs": [],
   "source": [
    "import pandas as pd"
   ]
  },
  {
   "cell_type": "markdown",
   "metadata": {},
   "source": [
    "#### Abrir un dataframe \n",
    "\n",
    "Primer paso. Abrimos un archivo. Ya vimos una forma de abrir txt, ahora vamos a abrir una tabla con Pandas\n",
    "\n",
    "Por convención:\n",
    "- pandas se importa con el alias 'pd'\n",
    "- la base importada se refiere como dataframe y se abrevia df\n",
    "\n",
    "Pandas tiene funciones para abrir muchos tipos de archivos estructurados. Algunos ejemplos son:\n",
    "- pd.read_excel()\n",
    "- pd.read_csv()\n",
    "- pd.read_stata()\n",
    "- pd.read_spss()"
   ]
  },
  {
   "cell_type": "markdown",
   "metadata": {},
   "source": [
    "Veamos en detalle. Primero, abramos un archivo *Excel*, para hacerlo:"
   ]
  },
  {
   "cell_type": "code",
   "execution_count": null,
   "metadata": {},
   "outputs": [],
   "source": [
    "#!pip install openpyxl  # para trabajar con excel debemos antes instalar esta dependencia"
   ]
  },
  {
   "cell_type": "code",
   "execution_count": 47,
   "metadata": {},
   "outputs": [
    {
     "data": {
      "text/html": [
       "<div>\n",
       "<style scoped>\n",
       "    .dataframe tbody tr th:only-of-type {\n",
       "        vertical-align: middle;\n",
       "    }\n",
       "\n",
       "    .dataframe tbody tr th {\n",
       "        vertical-align: top;\n",
       "    }\n",
       "\n",
       "    .dataframe thead th {\n",
       "        text-align: right;\n",
       "    }\n",
       "</style>\n",
       "<table border=\"1\" class=\"dataframe\">\n",
       "  <thead>\n",
       "    <tr style=\"text-align: right;\">\n",
       "      <th></th>\n",
       "      <th>nombre</th>\n",
       "      <th>nota</th>\n",
       "      <th>curso</th>\n",
       "      <th>grupo</th>\n",
       "    </tr>\n",
       "  </thead>\n",
       "  <tbody>\n",
       "    <tr>\n",
       "      <th>0</th>\n",
       "      <td>Luciano</td>\n",
       "      <td>10</td>\n",
       "      <td>Big Data</td>\n",
       "      <td>1</td>\n",
       "    </tr>\n",
       "    <tr>\n",
       "      <th>1</th>\n",
       "      <td>Juana</td>\n",
       "      <td>8</td>\n",
       "      <td>Big Data</td>\n",
       "      <td>1</td>\n",
       "    </tr>\n",
       "    <tr>\n",
       "      <th>2</th>\n",
       "      <td>Pedro</td>\n",
       "      <td>6</td>\n",
       "      <td>Big Data</td>\n",
       "      <td>1</td>\n",
       "    </tr>\n",
       "    <tr>\n",
       "      <th>3</th>\n",
       "      <td>Joaquin</td>\n",
       "      <td>7</td>\n",
       "      <td>Big Data</td>\n",
       "      <td>2</td>\n",
       "    </tr>\n",
       "    <tr>\n",
       "      <th>4</th>\n",
       "      <td>Maria</td>\n",
       "      <td>9</td>\n",
       "      <td>Big Data</td>\n",
       "      <td>2</td>\n",
       "    </tr>\n",
       "    <tr>\n",
       "      <th>5</th>\n",
       "      <td>Tomas</td>\n",
       "      <td>5</td>\n",
       "      <td>Big Data</td>\n",
       "      <td>2</td>\n",
       "    </tr>\n",
       "    <tr>\n",
       "      <th>6</th>\n",
       "      <td>Facundo</td>\n",
       "      <td>6</td>\n",
       "      <td>Big Data</td>\n",
       "      <td>3</td>\n",
       "    </tr>\n",
       "    <tr>\n",
       "      <th>7</th>\n",
       "      <td>Lucia</td>\n",
       "      <td>8</td>\n",
       "      <td>Big Data</td>\n",
       "      <td>3</td>\n",
       "    </tr>\n",
       "    <tr>\n",
       "      <th>8</th>\n",
       "      <td>Martina</td>\n",
       "      <td>9</td>\n",
       "      <td>Big Data</td>\n",
       "      <td>3</td>\n",
       "    </tr>\n",
       "    <tr>\n",
       "      <th>9</th>\n",
       "      <td>Natalia</td>\n",
       "      <td>9</td>\n",
       "      <td>Big Data</td>\n",
       "      <td>4</td>\n",
       "    </tr>\n",
       "    <tr>\n",
       "      <th>10</th>\n",
       "      <td>Ezequiel</td>\n",
       "      <td>8</td>\n",
       "      <td>Big Data</td>\n",
       "      <td>4</td>\n",
       "    </tr>\n",
       "    <tr>\n",
       "      <th>11</th>\n",
       "      <td>Andres</td>\n",
       "      <td>7</td>\n",
       "      <td>Big Data</td>\n",
       "      <td>4</td>\n",
       "    </tr>\n",
       "    <tr>\n",
       "      <th>12</th>\n",
       "      <td>Agustina</td>\n",
       "      <td>10</td>\n",
       "      <td>Big Data</td>\n",
       "      <td>5</td>\n",
       "    </tr>\n",
       "    <tr>\n",
       "      <th>13</th>\n",
       "      <td>Ignacio</td>\n",
       "      <td>9</td>\n",
       "      <td>Big Data</td>\n",
       "      <td>5</td>\n",
       "    </tr>\n",
       "    <tr>\n",
       "      <th>14</th>\n",
       "      <td>Martin</td>\n",
       "      <td>8</td>\n",
       "      <td>Big Data</td>\n",
       "      <td>5</td>\n",
       "    </tr>\n",
       "  </tbody>\n",
       "</table>\n",
       "</div>"
      ],
      "text/plain": [
       "      nombre  nota     curso  grupo\n",
       "0    Luciano    10  Big Data      1\n",
       "1      Juana     8  Big Data      1\n",
       "2      Pedro     6  Big Data      1\n",
       "3    Joaquin     7  Big Data      2\n",
       "4      Maria     9  Big Data      2\n",
       "5      Tomas     5  Big Data      2\n",
       "6    Facundo     6  Big Data      3\n",
       "7      Lucia     8  Big Data      3\n",
       "8    Martina     9  Big Data      3\n",
       "9    Natalia     9  Big Data      4\n",
       "10  Ezequiel     8  Big Data      4\n",
       "11    Andres     7  Big Data      4\n",
       "12  Agustina    10  Big Data      5\n",
       "13   Ignacio     9  Big Data      5\n",
       "14    Martin     8  Big Data      5"
      ]
     },
     "execution_count": 47,
     "metadata": {},
     "output_type": "execute_result"
    }
   ],
   "source": [
    "pd.read_excel('ejemplo.xlsx')"
   ]
  },
  {
   "cell_type": "markdown",
   "metadata": {},
   "source": [
    "Por default, Pandas abre la primera hoja del archivo (esté visible o escondida). Para indicar otra hoja:"
   ]
  },
  {
   "cell_type": "code",
   "execution_count": 48,
   "metadata": {},
   "outputs": [
    {
     "data": {
      "text/html": [
       "<div>\n",
       "<style scoped>\n",
       "    .dataframe tbody tr th:only-of-type {\n",
       "        vertical-align: middle;\n",
       "    }\n",
       "\n",
       "    .dataframe tbody tr th {\n",
       "        vertical-align: top;\n",
       "    }\n",
       "\n",
       "    .dataframe thead th {\n",
       "        text-align: right;\n",
       "    }\n",
       "</style>\n",
       "<table border=\"1\" class=\"dataframe\">\n",
       "  <thead>\n",
       "    <tr style=\"text-align: right;\">\n",
       "      <th></th>\n",
       "      <th>nombre</th>\n",
       "      <th>nota</th>\n",
       "      <th>curso</th>\n",
       "      <th>grupo</th>\n",
       "    </tr>\n",
       "  </thead>\n",
       "  <tbody>\n",
       "    <tr>\n",
       "      <th>0</th>\n",
       "      <td>Luciano</td>\n",
       "      <td>10</td>\n",
       "      <td>Big Data</td>\n",
       "      <td>1</td>\n",
       "    </tr>\n",
       "    <tr>\n",
       "      <th>1</th>\n",
       "      <td>Juana</td>\n",
       "      <td>8</td>\n",
       "      <td>Big Data</td>\n",
       "      <td>1</td>\n",
       "    </tr>\n",
       "    <tr>\n",
       "      <th>2</th>\n",
       "      <td>Pedro</td>\n",
       "      <td>6</td>\n",
       "      <td>Big Data</td>\n",
       "      <td>1</td>\n",
       "    </tr>\n",
       "    <tr>\n",
       "      <th>3</th>\n",
       "      <td>Joaquin</td>\n",
       "      <td>7</td>\n",
       "      <td>Big Data</td>\n",
       "      <td>2</td>\n",
       "    </tr>\n",
       "    <tr>\n",
       "      <th>4</th>\n",
       "      <td>Maria</td>\n",
       "      <td>9</td>\n",
       "      <td>Big Data</td>\n",
       "      <td>2</td>\n",
       "    </tr>\n",
       "    <tr>\n",
       "      <th>5</th>\n",
       "      <td>Tomas</td>\n",
       "      <td>5</td>\n",
       "      <td>Big Data</td>\n",
       "      <td>2</td>\n",
       "    </tr>\n",
       "    <tr>\n",
       "      <th>6</th>\n",
       "      <td>Facundo</td>\n",
       "      <td>6</td>\n",
       "      <td>Big Data</td>\n",
       "      <td>3</td>\n",
       "    </tr>\n",
       "    <tr>\n",
       "      <th>7</th>\n",
       "      <td>Lucia</td>\n",
       "      <td>8</td>\n",
       "      <td>Big Data</td>\n",
       "      <td>3</td>\n",
       "    </tr>\n",
       "    <tr>\n",
       "      <th>8</th>\n",
       "      <td>Martina</td>\n",
       "      <td>9</td>\n",
       "      <td>Big Data</td>\n",
       "      <td>3</td>\n",
       "    </tr>\n",
       "    <tr>\n",
       "      <th>9</th>\n",
       "      <td>Natalia</td>\n",
       "      <td>9</td>\n",
       "      <td>Big Data</td>\n",
       "      <td>4</td>\n",
       "    </tr>\n",
       "    <tr>\n",
       "      <th>10</th>\n",
       "      <td>Ezequiel</td>\n",
       "      <td>8</td>\n",
       "      <td>Big Data</td>\n",
       "      <td>4</td>\n",
       "    </tr>\n",
       "    <tr>\n",
       "      <th>11</th>\n",
       "      <td>Andres</td>\n",
       "      <td>7</td>\n",
       "      <td>Big Data</td>\n",
       "      <td>4</td>\n",
       "    </tr>\n",
       "    <tr>\n",
       "      <th>12</th>\n",
       "      <td>Agustina</td>\n",
       "      <td>10</td>\n",
       "      <td>Big Data</td>\n",
       "      <td>5</td>\n",
       "    </tr>\n",
       "    <tr>\n",
       "      <th>13</th>\n",
       "      <td>Ignacio</td>\n",
       "      <td>9</td>\n",
       "      <td>Big Data</td>\n",
       "      <td>5</td>\n",
       "    </tr>\n",
       "    <tr>\n",
       "      <th>14</th>\n",
       "      <td>Martin</td>\n",
       "      <td>8</td>\n",
       "      <td>Big Data</td>\n",
       "      <td>5</td>\n",
       "    </tr>\n",
       "  </tbody>\n",
       "</table>\n",
       "</div>"
      ],
      "text/plain": [
       "      nombre  nota     curso  grupo\n",
       "0    Luciano    10  Big Data      1\n",
       "1      Juana     8  Big Data      1\n",
       "2      Pedro     6  Big Data      1\n",
       "3    Joaquin     7  Big Data      2\n",
       "4      Maria     9  Big Data      2\n",
       "5      Tomas     5  Big Data      2\n",
       "6    Facundo     6  Big Data      3\n",
       "7      Lucia     8  Big Data      3\n",
       "8    Martina     9  Big Data      3\n",
       "9    Natalia     9  Big Data      4\n",
       "10  Ezequiel     8  Big Data      4\n",
       "11    Andres     7  Big Data      4\n",
       "12  Agustina    10  Big Data      5\n",
       "13   Ignacio     9  Big Data      5\n",
       "14    Martin     8  Big Data      5"
      ]
     },
     "execution_count": 48,
     "metadata": {},
     "output_type": "execute_result"
    }
   ],
   "source": [
    "pd.read_excel('ejemplo.xlsx', sheet_name = 'ejemplo')"
   ]
  },
  {
   "cell_type": "markdown",
   "metadata": {},
   "source": [
    "Ahora, esa función abre el archivo pero no lo guarda en memoria. Para eso, hay que asignarle un nombre de variable:"
   ]
  },
  {
   "cell_type": "code",
   "execution_count": 51,
   "metadata": {},
   "outputs": [
    {
     "data": {
      "text/html": [
       "<div>\n",
       "<style scoped>\n",
       "    .dataframe tbody tr th:only-of-type {\n",
       "        vertical-align: middle;\n",
       "    }\n",
       "\n",
       "    .dataframe tbody tr th {\n",
       "        vertical-align: top;\n",
       "    }\n",
       "\n",
       "    .dataframe thead th {\n",
       "        text-align: right;\n",
       "    }\n",
       "</style>\n",
       "<table border=\"1\" class=\"dataframe\">\n",
       "  <thead>\n",
       "    <tr style=\"text-align: right;\">\n",
       "      <th></th>\n",
       "      <th>nombre</th>\n",
       "      <th>nota</th>\n",
       "      <th>curso</th>\n",
       "      <th>grupo</th>\n",
       "    </tr>\n",
       "  </thead>\n",
       "  <tbody>\n",
       "    <tr>\n",
       "      <th>12</th>\n",
       "      <td>Agustina</td>\n",
       "      <td>10</td>\n",
       "      <td>Big Data</td>\n",
       "      <td>5</td>\n",
       "    </tr>\n",
       "    <tr>\n",
       "      <th>13</th>\n",
       "      <td>Ignacio</td>\n",
       "      <td>9</td>\n",
       "      <td>Big Data</td>\n",
       "      <td>5</td>\n",
       "    </tr>\n",
       "    <tr>\n",
       "      <th>14</th>\n",
       "      <td>Martin</td>\n",
       "      <td>8</td>\n",
       "      <td>Big Data</td>\n",
       "      <td>5</td>\n",
       "    </tr>\n",
       "  </tbody>\n",
       "</table>\n",
       "</div>"
      ],
      "text/plain": [
       "      nombre  nota     curso  grupo\n",
       "12  Agustina    10  Big Data      5\n",
       "13   Ignacio     9  Big Data      5\n",
       "14    Martin     8  Big Data      5"
      ]
     },
     "execution_count": 51,
     "metadata": {},
     "output_type": "execute_result"
    }
   ],
   "source": [
    "df = pd.read_excel('ejemplo.xlsx', sheet_name = 'ejemplo')\n",
    "df\n",
    "df.head(3)\n",
    "df.tail(3)"
   ]
  },
  {
   "cell_type": "markdown",
   "metadata": {},
   "source": [
    "Abrir un *.csv* es prácticamente lo mismo:"
   ]
  },
  {
   "cell_type": "code",
   "execution_count": 52,
   "metadata": {},
   "outputs": [
    {
     "data": {
      "text/html": [
       "<div>\n",
       "<style scoped>\n",
       "    .dataframe tbody tr th:only-of-type {\n",
       "        vertical-align: middle;\n",
       "    }\n",
       "\n",
       "    .dataframe tbody tr th {\n",
       "        vertical-align: top;\n",
       "    }\n",
       "\n",
       "    .dataframe thead th {\n",
       "        text-align: right;\n",
       "    }\n",
       "</style>\n",
       "<table border=\"1\" class=\"dataframe\">\n",
       "  <thead>\n",
       "    <tr style=\"text-align: right;\">\n",
       "      <th></th>\n",
       "      <th>nombre;nota;curso;grupo</th>\n",
       "    </tr>\n",
       "  </thead>\n",
       "  <tbody>\n",
       "    <tr>\n",
       "      <th>0</th>\n",
       "      <td>Luciano;10;Big Data;1</td>\n",
       "    </tr>\n",
       "    <tr>\n",
       "      <th>1</th>\n",
       "      <td>Juana;8;Big Data;1</td>\n",
       "    </tr>\n",
       "    <tr>\n",
       "      <th>2</th>\n",
       "      <td>Pedro;6;Big Data;1</td>\n",
       "    </tr>\n",
       "    <tr>\n",
       "      <th>3</th>\n",
       "      <td>Joaquin;7;Big Data;2</td>\n",
       "    </tr>\n",
       "    <tr>\n",
       "      <th>4</th>\n",
       "      <td>Maria;9;Big Data;2</td>\n",
       "    </tr>\n",
       "    <tr>\n",
       "      <th>5</th>\n",
       "      <td>Tomas;5;Big Data;2</td>\n",
       "    </tr>\n",
       "    <tr>\n",
       "      <th>6</th>\n",
       "      <td>Facundo;6;Big Data;3</td>\n",
       "    </tr>\n",
       "    <tr>\n",
       "      <th>7</th>\n",
       "      <td>Lucia;8;Big Data;3</td>\n",
       "    </tr>\n",
       "    <tr>\n",
       "      <th>8</th>\n",
       "      <td>Martina;9;Big Data;3</td>\n",
       "    </tr>\n",
       "    <tr>\n",
       "      <th>9</th>\n",
       "      <td>Natalia;9;Big Data;4</td>\n",
       "    </tr>\n",
       "    <tr>\n",
       "      <th>10</th>\n",
       "      <td>Ezequiel;8;Big Data;4</td>\n",
       "    </tr>\n",
       "    <tr>\n",
       "      <th>11</th>\n",
       "      <td>Andres;7;Big Data;4</td>\n",
       "    </tr>\n",
       "    <tr>\n",
       "      <th>12</th>\n",
       "      <td>Agustina;10;Big Data;5</td>\n",
       "    </tr>\n",
       "    <tr>\n",
       "      <th>13</th>\n",
       "      <td>Ignacio;9;Big Data;5</td>\n",
       "    </tr>\n",
       "    <tr>\n",
       "      <th>14</th>\n",
       "      <td>Martin;8;Big Data;5</td>\n",
       "    </tr>\n",
       "  </tbody>\n",
       "</table>\n",
       "</div>"
      ],
      "text/plain": [
       "   nombre;nota;curso;grupo\n",
       "0    Luciano;10;Big Data;1\n",
       "1       Juana;8;Big Data;1\n",
       "2       Pedro;6;Big Data;1\n",
       "3     Joaquin;7;Big Data;2\n",
       "4       Maria;9;Big Data;2\n",
       "5       Tomas;5;Big Data;2\n",
       "6     Facundo;6;Big Data;3\n",
       "7       Lucia;8;Big Data;3\n",
       "8     Martina;9;Big Data;3\n",
       "9     Natalia;9;Big Data;4\n",
       "10   Ezequiel;8;Big Data;4\n",
       "11     Andres;7;Big Data;4\n",
       "12  Agustina;10;Big Data;5\n",
       "13    Ignacio;9;Big Data;5\n",
       "14     Martin;8;Big Data;5"
      ]
     },
     "execution_count": 52,
     "metadata": {},
     "output_type": "execute_result"
    }
   ],
   "source": [
    "df = pd.read_csv('ejemplo.csv')\n",
    "df"
   ]
  },
  {
   "cell_type": "markdown",
   "metadata": {},
   "source": [
    "Al abrir un csv, python intenta inferir el separador. El separador es el símbolo que separa los valores: \",\", \";\", etc. Si hay algún inconveniente se puede especificar el separador con sep:\n",
    "\n",
    "(Pueden ver la documentación de la función en este enlace: https://pandas.pydata.org/docs/reference/api/pandas.read_csv.html)"
   ]
  },
  {
   "cell_type": "code",
   "execution_count": 53,
   "metadata": {},
   "outputs": [
    {
     "data": {
      "text/html": [
       "<div>\n",
       "<style scoped>\n",
       "    .dataframe tbody tr th:only-of-type {\n",
       "        vertical-align: middle;\n",
       "    }\n",
       "\n",
       "    .dataframe tbody tr th {\n",
       "        vertical-align: top;\n",
       "    }\n",
       "\n",
       "    .dataframe thead th {\n",
       "        text-align: right;\n",
       "    }\n",
       "</style>\n",
       "<table border=\"1\" class=\"dataframe\">\n",
       "  <thead>\n",
       "    <tr style=\"text-align: right;\">\n",
       "      <th></th>\n",
       "      <th>nombre</th>\n",
       "      <th>nota</th>\n",
       "      <th>curso</th>\n",
       "      <th>grupo</th>\n",
       "    </tr>\n",
       "  </thead>\n",
       "  <tbody>\n",
       "    <tr>\n",
       "      <th>0</th>\n",
       "      <td>Luciano</td>\n",
       "      <td>10</td>\n",
       "      <td>Big Data</td>\n",
       "      <td>1</td>\n",
       "    </tr>\n",
       "    <tr>\n",
       "      <th>1</th>\n",
       "      <td>Juana</td>\n",
       "      <td>8</td>\n",
       "      <td>Big Data</td>\n",
       "      <td>1</td>\n",
       "    </tr>\n",
       "    <tr>\n",
       "      <th>2</th>\n",
       "      <td>Pedro</td>\n",
       "      <td>6</td>\n",
       "      <td>Big Data</td>\n",
       "      <td>1</td>\n",
       "    </tr>\n",
       "    <tr>\n",
       "      <th>3</th>\n",
       "      <td>Joaquin</td>\n",
       "      <td>7</td>\n",
       "      <td>Big Data</td>\n",
       "      <td>2</td>\n",
       "    </tr>\n",
       "    <tr>\n",
       "      <th>4</th>\n",
       "      <td>Maria</td>\n",
       "      <td>9</td>\n",
       "      <td>Big Data</td>\n",
       "      <td>2</td>\n",
       "    </tr>\n",
       "    <tr>\n",
       "      <th>5</th>\n",
       "      <td>Tomas</td>\n",
       "      <td>5</td>\n",
       "      <td>Big Data</td>\n",
       "      <td>2</td>\n",
       "    </tr>\n",
       "    <tr>\n",
       "      <th>6</th>\n",
       "      <td>Facundo</td>\n",
       "      <td>6</td>\n",
       "      <td>Big Data</td>\n",
       "      <td>3</td>\n",
       "    </tr>\n",
       "    <tr>\n",
       "      <th>7</th>\n",
       "      <td>Lucia</td>\n",
       "      <td>8</td>\n",
       "      <td>Big Data</td>\n",
       "      <td>3</td>\n",
       "    </tr>\n",
       "    <tr>\n",
       "      <th>8</th>\n",
       "      <td>Martina</td>\n",
       "      <td>9</td>\n",
       "      <td>Big Data</td>\n",
       "      <td>3</td>\n",
       "    </tr>\n",
       "    <tr>\n",
       "      <th>9</th>\n",
       "      <td>Natalia</td>\n",
       "      <td>9</td>\n",
       "      <td>Big Data</td>\n",
       "      <td>4</td>\n",
       "    </tr>\n",
       "    <tr>\n",
       "      <th>10</th>\n",
       "      <td>Ezequiel</td>\n",
       "      <td>8</td>\n",
       "      <td>Big Data</td>\n",
       "      <td>4</td>\n",
       "    </tr>\n",
       "    <tr>\n",
       "      <th>11</th>\n",
       "      <td>Andres</td>\n",
       "      <td>7</td>\n",
       "      <td>Big Data</td>\n",
       "      <td>4</td>\n",
       "    </tr>\n",
       "    <tr>\n",
       "      <th>12</th>\n",
       "      <td>Agustina</td>\n",
       "      <td>10</td>\n",
       "      <td>Big Data</td>\n",
       "      <td>5</td>\n",
       "    </tr>\n",
       "    <tr>\n",
       "      <th>13</th>\n",
       "      <td>Ignacio</td>\n",
       "      <td>9</td>\n",
       "      <td>Big Data</td>\n",
       "      <td>5</td>\n",
       "    </tr>\n",
       "    <tr>\n",
       "      <th>14</th>\n",
       "      <td>Martin</td>\n",
       "      <td>8</td>\n",
       "      <td>Big Data</td>\n",
       "      <td>5</td>\n",
       "    </tr>\n",
       "  </tbody>\n",
       "</table>\n",
       "</div>"
      ],
      "text/plain": [
       "      nombre  nota     curso  grupo\n",
       "0    Luciano    10  Big Data      1\n",
       "1      Juana     8  Big Data      1\n",
       "2      Pedro     6  Big Data      1\n",
       "3    Joaquin     7  Big Data      2\n",
       "4      Maria     9  Big Data      2\n",
       "5      Tomas     5  Big Data      2\n",
       "6    Facundo     6  Big Data      3\n",
       "7      Lucia     8  Big Data      3\n",
       "8    Martina     9  Big Data      3\n",
       "9    Natalia     9  Big Data      4\n",
       "10  Ezequiel     8  Big Data      4\n",
       "11    Andres     7  Big Data      4\n",
       "12  Agustina    10  Big Data      5\n",
       "13   Ignacio     9  Big Data      5\n",
       "14    Martin     8  Big Data      5"
      ]
     },
     "execution_count": 53,
     "metadata": {},
     "output_type": "execute_result"
    }
   ],
   "source": [
    "df = pd.read_csv('ejemplo.csv', sep = ';')\n",
    "df\n"
   ]
  },
  {
   "cell_type": "markdown",
   "metadata": {},
   "source": [
    "Abrir un archivo de *Stata* es similar"
   ]
  },
  {
   "cell_type": "code",
   "execution_count": 54,
   "metadata": {},
   "outputs": [
    {
     "data": {
      "text/html": [
       "<div>\n",
       "<style scoped>\n",
       "    .dataframe tbody tr th:only-of-type {\n",
       "        vertical-align: middle;\n",
       "    }\n",
       "\n",
       "    .dataframe tbody tr th {\n",
       "        vertical-align: top;\n",
       "    }\n",
       "\n",
       "    .dataframe thead th {\n",
       "        text-align: right;\n",
       "    }\n",
       "</style>\n",
       "<table border=\"1\" class=\"dataframe\">\n",
       "  <thead>\n",
       "    <tr style=\"text-align: right;\">\n",
       "      <th></th>\n",
       "      <th>nombre</th>\n",
       "      <th>nota</th>\n",
       "      <th>curso</th>\n",
       "      <th>grupo</th>\n",
       "    </tr>\n",
       "  </thead>\n",
       "  <tbody>\n",
       "    <tr>\n",
       "      <th>0</th>\n",
       "      <td>Luciano</td>\n",
       "      <td>10</td>\n",
       "      <td>Big Data</td>\n",
       "      <td>1</td>\n",
       "    </tr>\n",
       "    <tr>\n",
       "      <th>1</th>\n",
       "      <td>Juana</td>\n",
       "      <td>8</td>\n",
       "      <td>Big Data</td>\n",
       "      <td>1</td>\n",
       "    </tr>\n",
       "    <tr>\n",
       "      <th>2</th>\n",
       "      <td>Pedro</td>\n",
       "      <td>6</td>\n",
       "      <td>Big Data</td>\n",
       "      <td>1</td>\n",
       "    </tr>\n",
       "    <tr>\n",
       "      <th>3</th>\n",
       "      <td>Joaquin</td>\n",
       "      <td>7</td>\n",
       "      <td>Big Data</td>\n",
       "      <td>2</td>\n",
       "    </tr>\n",
       "    <tr>\n",
       "      <th>4</th>\n",
       "      <td>Maria</td>\n",
       "      <td>9</td>\n",
       "      <td>Big Data</td>\n",
       "      <td>2</td>\n",
       "    </tr>\n",
       "    <tr>\n",
       "      <th>5</th>\n",
       "      <td>Tomas</td>\n",
       "      <td>5</td>\n",
       "      <td>Big Data</td>\n",
       "      <td>2</td>\n",
       "    </tr>\n",
       "    <tr>\n",
       "      <th>6</th>\n",
       "      <td>Facundo</td>\n",
       "      <td>6</td>\n",
       "      <td>Big Data</td>\n",
       "      <td>3</td>\n",
       "    </tr>\n",
       "    <tr>\n",
       "      <th>7</th>\n",
       "      <td>Lucia</td>\n",
       "      <td>8</td>\n",
       "      <td>Big Data</td>\n",
       "      <td>3</td>\n",
       "    </tr>\n",
       "    <tr>\n",
       "      <th>8</th>\n",
       "      <td>Martina</td>\n",
       "      <td>9</td>\n",
       "      <td>Big Data</td>\n",
       "      <td>3</td>\n",
       "    </tr>\n",
       "    <tr>\n",
       "      <th>9</th>\n",
       "      <td>Natalia</td>\n",
       "      <td>9</td>\n",
       "      <td>Big Data</td>\n",
       "      <td>4</td>\n",
       "    </tr>\n",
       "    <tr>\n",
       "      <th>10</th>\n",
       "      <td>Ezequiel</td>\n",
       "      <td>8</td>\n",
       "      <td>Big Data</td>\n",
       "      <td>4</td>\n",
       "    </tr>\n",
       "    <tr>\n",
       "      <th>11</th>\n",
       "      <td>Andres</td>\n",
       "      <td>7</td>\n",
       "      <td>Big Data</td>\n",
       "      <td>4</td>\n",
       "    </tr>\n",
       "    <tr>\n",
       "      <th>12</th>\n",
       "      <td>Agustina</td>\n",
       "      <td>10</td>\n",
       "      <td>Big Data</td>\n",
       "      <td>5</td>\n",
       "    </tr>\n",
       "    <tr>\n",
       "      <th>13</th>\n",
       "      <td>Ignacio</td>\n",
       "      <td>9</td>\n",
       "      <td>Big Data</td>\n",
       "      <td>5</td>\n",
       "    </tr>\n",
       "    <tr>\n",
       "      <th>14</th>\n",
       "      <td>Martin</td>\n",
       "      <td>8</td>\n",
       "      <td>Big Data</td>\n",
       "      <td>5</td>\n",
       "    </tr>\n",
       "  </tbody>\n",
       "</table>\n",
       "</div>"
      ],
      "text/plain": [
       "      nombre  nota     curso  grupo\n",
       "0    Luciano    10  Big Data      1\n",
       "1      Juana     8  Big Data      1\n",
       "2      Pedro     6  Big Data      1\n",
       "3    Joaquin     7  Big Data      2\n",
       "4      Maria     9  Big Data      2\n",
       "5      Tomas     5  Big Data      2\n",
       "6    Facundo     6  Big Data      3\n",
       "7      Lucia     8  Big Data      3\n",
       "8    Martina     9  Big Data      3\n",
       "9    Natalia     9  Big Data      4\n",
       "10  Ezequiel     8  Big Data      4\n",
       "11    Andres     7  Big Data      4\n",
       "12  Agustina    10  Big Data      5\n",
       "13   Ignacio     9  Big Data      5\n",
       "14    Martin     8  Big Data      5"
      ]
     },
     "execution_count": 54,
     "metadata": {},
     "output_type": "execute_result"
    }
   ],
   "source": [
    "df = pd.read_stata('ejemplo.dta')\n",
    "df"
   ]
  },
  {
   "cell_type": "markdown",
   "metadata": {},
   "source": [
    "####  Explorar los datos\n",
    "\n",
    "¿Cómo exploramos los datos que importamos? Hay muchas maneras.\n",
    "Primero veamos las funciones de pandas que sirven para hacer una inspección general y una primera visualización de los datos importados:\n",
    "\n",
    "- df.head(N): nos muestra las primeras N líneas\n",
    "- df.tail(N): nos muestra las últimas N líneas\n",
    "- df.sample(N): muestra aleatoria de N líneas"
   ]
  },
  {
   "cell_type": "code",
   "execution_count": 55,
   "metadata": {},
   "outputs": [
    {
     "data": {
      "text/html": [
       "<div>\n",
       "<style scoped>\n",
       "    .dataframe tbody tr th:only-of-type {\n",
       "        vertical-align: middle;\n",
       "    }\n",
       "\n",
       "    .dataframe tbody tr th {\n",
       "        vertical-align: top;\n",
       "    }\n",
       "\n",
       "    .dataframe thead th {\n",
       "        text-align: right;\n",
       "    }\n",
       "</style>\n",
       "<table border=\"1\" class=\"dataframe\">\n",
       "  <thead>\n",
       "    <tr style=\"text-align: right;\">\n",
       "      <th></th>\n",
       "      <th>nombre</th>\n",
       "      <th>nota</th>\n",
       "      <th>curso</th>\n",
       "      <th>grupo</th>\n",
       "    </tr>\n",
       "  </thead>\n",
       "  <tbody>\n",
       "    <tr>\n",
       "      <th>0</th>\n",
       "      <td>Luciano</td>\n",
       "      <td>10</td>\n",
       "      <td>Big Data</td>\n",
       "      <td>1</td>\n",
       "    </tr>\n",
       "    <tr>\n",
       "      <th>1</th>\n",
       "      <td>Juana</td>\n",
       "      <td>8</td>\n",
       "      <td>Big Data</td>\n",
       "      <td>1</td>\n",
       "    </tr>\n",
       "    <tr>\n",
       "      <th>2</th>\n",
       "      <td>Pedro</td>\n",
       "      <td>6</td>\n",
       "      <td>Big Data</td>\n",
       "      <td>1</td>\n",
       "    </tr>\n",
       "    <tr>\n",
       "      <th>3</th>\n",
       "      <td>Joaquin</td>\n",
       "      <td>7</td>\n",
       "      <td>Big Data</td>\n",
       "      <td>2</td>\n",
       "    </tr>\n",
       "    <tr>\n",
       "      <th>4</th>\n",
       "      <td>Maria</td>\n",
       "      <td>9</td>\n",
       "      <td>Big Data</td>\n",
       "      <td>2</td>\n",
       "    </tr>\n",
       "  </tbody>\n",
       "</table>\n",
       "</div>"
      ],
      "text/plain": [
       "    nombre  nota     curso  grupo\n",
       "0  Luciano    10  Big Data      1\n",
       "1    Juana     8  Big Data      1\n",
       "2    Pedro     6  Big Data      1\n",
       "3  Joaquin     7  Big Data      2\n",
       "4    Maria     9  Big Data      2"
      ]
     },
     "execution_count": 55,
     "metadata": {},
     "output_type": "execute_result"
    }
   ],
   "source": [
    "df.head(5) # imprime nombres de las columnas y las 3 primeras lineas"
   ]
  },
  {
   "cell_type": "code",
   "execution_count": 56,
   "metadata": {},
   "outputs": [
    {
     "data": {
      "text/html": [
       "<div>\n",
       "<style scoped>\n",
       "    .dataframe tbody tr th:only-of-type {\n",
       "        vertical-align: middle;\n",
       "    }\n",
       "\n",
       "    .dataframe tbody tr th {\n",
       "        vertical-align: top;\n",
       "    }\n",
       "\n",
       "    .dataframe thead th {\n",
       "        text-align: right;\n",
       "    }\n",
       "</style>\n",
       "<table border=\"1\" class=\"dataframe\">\n",
       "  <thead>\n",
       "    <tr style=\"text-align: right;\">\n",
       "      <th></th>\n",
       "      <th>nombre</th>\n",
       "      <th>nota</th>\n",
       "      <th>curso</th>\n",
       "      <th>grupo</th>\n",
       "    </tr>\n",
       "  </thead>\n",
       "  <tbody>\n",
       "    <tr>\n",
       "      <th>12</th>\n",
       "      <td>Agustina</td>\n",
       "      <td>10</td>\n",
       "      <td>Big Data</td>\n",
       "      <td>5</td>\n",
       "    </tr>\n",
       "    <tr>\n",
       "      <th>13</th>\n",
       "      <td>Ignacio</td>\n",
       "      <td>9</td>\n",
       "      <td>Big Data</td>\n",
       "      <td>5</td>\n",
       "    </tr>\n",
       "    <tr>\n",
       "      <th>14</th>\n",
       "      <td>Martin</td>\n",
       "      <td>8</td>\n",
       "      <td>Big Data</td>\n",
       "      <td>5</td>\n",
       "    </tr>\n",
       "  </tbody>\n",
       "</table>\n",
       "</div>"
      ],
      "text/plain": [
       "      nombre  nota     curso  grupo\n",
       "12  Agustina    10  Big Data      5\n",
       "13   Ignacio     9  Big Data      5\n",
       "14    Martin     8  Big Data      5"
      ]
     },
     "execution_count": 56,
     "metadata": {},
     "output_type": "execute_result"
    }
   ],
   "source": [
    "df.tail(3) # igual que head pero empieza desde el fondo"
   ]
  },
  {
   "cell_type": "code",
   "execution_count": 57,
   "metadata": {},
   "outputs": [
    {
     "data": {
      "text/html": [
       "<div>\n",
       "<style scoped>\n",
       "    .dataframe tbody tr th:only-of-type {\n",
       "        vertical-align: middle;\n",
       "    }\n",
       "\n",
       "    .dataframe tbody tr th {\n",
       "        vertical-align: top;\n",
       "    }\n",
       "\n",
       "    .dataframe thead th {\n",
       "        text-align: right;\n",
       "    }\n",
       "</style>\n",
       "<table border=\"1\" class=\"dataframe\">\n",
       "  <thead>\n",
       "    <tr style=\"text-align: right;\">\n",
       "      <th></th>\n",
       "      <th>nombre</th>\n",
       "      <th>nota</th>\n",
       "      <th>curso</th>\n",
       "      <th>grupo</th>\n",
       "    </tr>\n",
       "  </thead>\n",
       "  <tbody>\n",
       "    <tr>\n",
       "      <th>10</th>\n",
       "      <td>Ezequiel</td>\n",
       "      <td>8</td>\n",
       "      <td>Big Data</td>\n",
       "      <td>4</td>\n",
       "    </tr>\n",
       "    <tr>\n",
       "      <th>1</th>\n",
       "      <td>Juana</td>\n",
       "      <td>8</td>\n",
       "      <td>Big Data</td>\n",
       "      <td>1</td>\n",
       "    </tr>\n",
       "    <tr>\n",
       "      <th>4</th>\n",
       "      <td>Maria</td>\n",
       "      <td>9</td>\n",
       "      <td>Big Data</td>\n",
       "      <td>2</td>\n",
       "    </tr>\n",
       "    <tr>\n",
       "      <th>2</th>\n",
       "      <td>Pedro</td>\n",
       "      <td>6</td>\n",
       "      <td>Big Data</td>\n",
       "      <td>1</td>\n",
       "    </tr>\n",
       "    <tr>\n",
       "      <th>12</th>\n",
       "      <td>Agustina</td>\n",
       "      <td>10</td>\n",
       "      <td>Big Data</td>\n",
       "      <td>5</td>\n",
       "    </tr>\n",
       "  </tbody>\n",
       "</table>\n",
       "</div>"
      ],
      "text/plain": [
       "      nombre  nota     curso  grupo\n",
       "10  Ezequiel     8  Big Data      4\n",
       "1      Juana     8  Big Data      1\n",
       "4      Maria     9  Big Data      2\n",
       "2      Pedro     6  Big Data      1\n",
       "12  Agustina    10  Big Data      5"
      ]
     },
     "execution_count": 57,
     "metadata": {},
     "output_type": "execute_result"
    }
   ],
   "source": [
    "df.sample(5) # muestra aleatoria de n=5"
   ]
  },
  {
   "cell_type": "markdown",
   "metadata": {},
   "source": [
    "#### Crear un DataFrame"
   ]
  },
  {
   "cell_type": "code",
   "execution_count": 60,
   "metadata": {},
   "outputs": [
    {
     "name": "stdout",
     "output_type": "stream",
     "text": [
      "      Apellido     Curso  Grupo\n",
      "Row_1   García  Big Data      1\n",
      "Row_2    Rucci  Big Data      3\n",
      "Row_3    López  Big Data      2\n"
     ]
    },
    {
     "data": {
      "text/html": [
       "<div>\n",
       "<style scoped>\n",
       "    .dataframe tbody tr th:only-of-type {\n",
       "        vertical-align: middle;\n",
       "    }\n",
       "\n",
       "    .dataframe tbody tr th {\n",
       "        vertical-align: top;\n",
       "    }\n",
       "\n",
       "    .dataframe thead th {\n",
       "        text-align: right;\n",
       "    }\n",
       "</style>\n",
       "<table border=\"1\" class=\"dataframe\">\n",
       "  <thead>\n",
       "    <tr style=\"text-align: right;\">\n",
       "      <th></th>\n",
       "      <th>Apellido</th>\n",
       "      <th>Curso</th>\n",
       "      <th>Grupo</th>\n",
       "    </tr>\n",
       "  </thead>\n",
       "  <tbody>\n",
       "    <tr>\n",
       "      <th>Row_1</th>\n",
       "      <td>García</td>\n",
       "      <td>Big Data</td>\n",
       "      <td>1</td>\n",
       "    </tr>\n",
       "    <tr>\n",
       "      <th>Row_2</th>\n",
       "      <td>Rucci</td>\n",
       "      <td>Big Data</td>\n",
       "      <td>3</td>\n",
       "    </tr>\n",
       "    <tr>\n",
       "      <th>Row_3</th>\n",
       "      <td>López</td>\n",
       "      <td>Big Data</td>\n",
       "      <td>2</td>\n",
       "    </tr>\n",
       "  </tbody>\n",
       "</table>\n",
       "</div>"
      ],
      "text/plain": [
       "      Apellido     Curso  Grupo\n",
       "Row_1   García  Big Data      1\n",
       "Row_2    Rucci  Big Data      3\n",
       "Row_3    López  Big Data      2"
      ]
     },
     "execution_count": 60,
     "metadata": {},
     "output_type": "execute_result"
    }
   ],
   "source": [
    "# Creamos el df\n",
    "df_estud = pd.DataFrame({'Apellido':['García', 'Rucci', 'López'],\n",
    "                         'Curso':['Big Data', 'Big Data', 'Big Data'],\n",
    "                         'Grupo':[1, 3, 2]})\n",
    " \n",
    "# Creamos el índice\n",
    "index_ = ['Row_1', 'Row_2', 'Row_3']\n",
    " \n",
    "# Seteamos el índice\n",
    "df_estud.index = index_\n",
    "\n",
    "print(df_estud)\n",
    "df_estud # Notar que en este caso sí se ve el 'formato/estilo' de Pandas"
   ]
  },
  {
   "cell_type": "markdown",
   "metadata": {},
   "source": [
    "#### Exportar un DataFrame \n",
    "\n",
    "Exportar un df también es sencillo con pandas. Dos opciones comunes:\n",
    "- df.to_excel()\n",
    "- df.to_csv()\n",
    "\n",
    "Por default, el dataframe exportado se guardará en directorio en el que se está trabajando, con el nombre de archivo que especifiquemos."
   ]
  },
  {
   "cell_type": "code",
   "execution_count": 61,
   "metadata": {},
   "outputs": [],
   "source": [
    "df.to_excel(\"exportar_ejemplo.xlsx\", index = False)"
   ]
  },
  {
   "cell_type": "markdown",
   "metadata": {},
   "source": [
    "#### Algunos ejercicios"
   ]
  },
  {
   "cell_type": "markdown",
   "metadata": {},
   "source": [
    "1. Escribir una función llamada 'saludar' que toma como argumento el nombre de una persona e imprime el saludo \"Hola, (nombre)!\""
   ]
  },
  {
   "cell_type": "code",
   "execution_count": 65,
   "metadata": {},
   "outputs": [
    {
     "ename": "TypeError",
     "evalue": "saludar() missing 1 required positional argument: 'nombre'",
     "output_type": "error",
     "traceback": [
      "\u001b[1;31m---------------------------------------------------------------------------\u001b[0m",
      "\u001b[1;31mTypeError\u001b[0m                                 Traceback (most recent call last)",
      "Cell \u001b[1;32mIn[65], line 5\u001b[0m\n\u001b[0;32m      2\u001b[0m     \u001b[38;5;28mprint\u001b[39m(\u001b[38;5;124m'\u001b[39m\u001b[38;5;124mHola,\u001b[39m\u001b[38;5;124m'\u001b[39m, nombre) \u001b[38;5;66;03m#es equivalente a print('Hola, {}'.format(nombre)) o print(f\"Hola, {nombre}!\") \u001b[39;00m\n\u001b[0;32m      3\u001b[0m     \u001b[38;5;66;03m#print(f\"Hola, {nombre}!\") \u001b[39;00m\n\u001b[1;32m----> 5\u001b[0m \u001b[43msaludar\u001b[49m\u001b[43m(\u001b[49m\u001b[43m)\u001b[49m\n",
      "\u001b[1;31mTypeError\u001b[0m: saludar() missing 1 required positional argument: 'nombre'"
     ]
    }
   ],
   "source": [
    "def saludar(nombre):\n",
    "    print('Hola,', nombre) #es equivalente a print('Hola, {}'.format(nombre)) o print(f\"Hola, {nombre}!\") \n",
    "    #print(f\"Hola, {nombre}!\") \n",
    "\n",
    "saludar('Victoria')"
   ]
  },
  {
   "cell_type": "code",
   "execution_count": 64,
   "metadata": {
    "scrolled": true
   },
   "outputs": [
    {
     "name": "stdout",
     "output_type": "stream",
     "text": [
      "La materia Big data se dicta desde marzo\n",
      "marzo y abril\n",
      "marzo y abril\n",
      "La materia Big data se dicta desde marzo\n",
      "\n",
      "La materia Big data se dicta desde marzo\n"
     ]
    }
   ],
   "source": [
    "# Sobre como formatear el output:\n",
    "print('La materia {} se dicta desde {}'.format('Big data', 'marzo'))\n",
    " \n",
    "# También podemos referirnos a la posición del objeto:\n",
    "print('{0} y {1}'.format('marzo', 'abril'))\n",
    "print('{1} y {0}'.format('abril', 'marzo'))\n",
    "print('La materia {0} se dicta desde {1}'.format('Big data', 'marzo'))\n",
    "\n",
    "# O también podemos formatear el string de esta forma\n",
    "print(f\"\\nLa materia {'Big data'} se dicta desde {'marzo'}\")"
   ]
  },
  {
   "cell_type": "markdown",
   "metadata": {},
   "source": [
    "2. Ahora modificar la función del ejercicio anterior tal que tenga el argumento de nombre predefinido. \n",
    "Si no se define un nombre debería imprimir \"Hola, amigo\".\n"
   ]
  },
  {
   "cell_type": "code",
   "execution_count": 66,
   "metadata": {},
   "outputs": [
    {
     "name": "stdout",
     "output_type": "stream",
     "text": [
      "Hola, amigo\n",
      "Hola, Victoria\n"
     ]
    }
   ],
   "source": [
    "def saludar(nombre_pred = 'amigo'):\n",
    "    print('Hola,', nombre_pred)\n",
    "\n",
    "saludar()\n",
    "saludar('Victoria')"
   ]
  },
  {
   "cell_type": "markdown",
   "metadata": {},
   "source": [
    "3. Escribir una función llamada 'calcular_area' que toma los parámetros de base y altura de un rectángulo y devuelve el área."
   ]
  },
  {
   "cell_type": "code",
   "execution_count": 67,
   "metadata": {},
   "outputs": [
    {
     "data": {
      "text/plain": [
       "32"
      ]
     },
     "execution_count": 67,
     "metadata": {},
     "output_type": "execute_result"
    }
   ],
   "source": [
    "def calcular_area(base, altura):\n",
    "    return base*altura\n",
    "\n",
    "calcular_area(4, 8)"
   ]
  },
  {
   "cell_type": "markdown",
   "metadata": {},
   "source": [
    "4. Escribir una función 'sumar_nros' que toma como argumentos dos números y devuelve su suma. Incluir un docstring que describe qué hace la función.\n"
   ]
  },
  {
   "cell_type": "code",
   "execution_count": 68,
   "metadata": {},
   "outputs": [
    {
     "data": {
      "text/plain": [
       "8"
      ]
     },
     "execution_count": 68,
     "metadata": {},
     "output_type": "execute_result"
    }
   ],
   "source": [
    "def sumar_nros(a, b):\n",
    "    '''\n",
    "    Esta función toma como argumentos dos números y devuelve su suma\n",
    "    '''\n",
    "    return a+b\n",
    "\n",
    "sumar_nros(3, 5)"
   ]
  },
  {
   "cell_type": "code",
   "execution_count": 69,
   "metadata": {},
   "outputs": [
    {
     "name": "stdout",
     "output_type": "stream",
     "text": [
      "Help on function sumar_nros in module __main__:\n",
      "\n",
      "sumar_nros(a, b)\n",
      "    Esta función toma como argumentos dos números y devuelve su suma\n",
      "\n"
     ]
    }
   ],
   "source": [
    "help(sumar_nros)"
   ]
  },
  {
   "cell_type": "markdown",
   "metadata": {},
   "source": [
    "5. Escribir una función llamada 'ver_info' que toma dos argumentos, nombre y edad, e imprime un mensaje de la forma: \"Nombre: (nombre) Edad: (edad)\"."
   ]
  },
  {
   "cell_type": "code",
   "execution_count": 70,
   "metadata": {},
   "outputs": [
    {
     "name": "stdout",
     "output_type": "stream",
     "text": [
      "Nombre: Juan, Edad: 24\n",
      "Nombre: Juan, Edad: 24\n",
      "Nombre: 24, Edad: Juan\n",
      "Nombre: Juan, Edad: 24\n"
     ]
    }
   ],
   "source": [
    "def ver_info(nombre, edad):\n",
    "    print(f'Nombre: {nombre}, Edad: {edad}') # es equivalente a print('Nombre: {}, Edad: {}'.format(nombre, edad))\n",
    "    #print('Nombre:', nombre, ', Edad:', edad)\n",
    "    \n",
    "ver_info(nombre='Juan', edad=24)\n",
    "ver_info('Juan', 24)\n",
    "# notar que si no especificamos el nombre del parámetro e invertimos el orden de los argumentos, el resultado cambia:\n",
    "ver_info(24, 'Juan')\n",
    "# pero si especificamos el nombre del parámetro, el resultado queda bien ordenado aunque el orden esté invertido\n",
    "ver_info(edad=24, nombre='Juan')"
   ]
  },
  {
   "cell_type": "markdown",
   "metadata": {},
   "source": [
    "6. Modificar la función del ejercicio anterior para que tenga valores por default para nombre y edad. \n",
    "Si no se especifica un valor, la función debería imprimir \"Nombre: Desconocido, Edad: Desconocida\"."
   ]
  },
  {
   "cell_type": "code",
   "execution_count": 71,
   "metadata": {},
   "outputs": [
    {
     "name": "stdout",
     "output_type": "stream",
     "text": [
      "Nombre: Desconocido, Edad: Desconocida\n",
      "Nombre: Juan, Edad: 24\n"
     ]
    }
   ],
   "source": [
    "def ver_info(nombre = 'Desconocido', edad = 'Desconocida'):\n",
    "    print(f'Nombre: {nombre}, Edad: {edad}')\n",
    "\n",
    "ver_info()\n",
    "ver_info(nombre='Juan', edad=24)"
   ]
  },
  {
   "cell_type": "markdown",
   "metadata": {},
   "source": [
    "Ahora veamos un ejercicio cuando la cantidad de parámetros de la función no es fija\n",
    "\n",
    "7. Escribir una función llamada 'equipo' que tome una cantidad variable de argumentos (nombres de los miembros de un equipo) e imprima 'Hola, (miembro)'\n",
    "\n",
    "Ayuda: El símbolo * permite indicar que habrá un número variable de argumentos posicionales para la función.\n",
    "Se usa el asterisco antes del nombre del parámetro (sería: ``def funcion(*args):`` )\n",
    "Esto se usa para evitar errores en el código cuando no sabemos cuántos argumentos se pasarán a la función. "
   ]
  },
  {
   "cell_type": "code",
   "execution_count": 72,
   "metadata": {},
   "outputs": [
    {
     "name": "stdout",
     "output_type": "stream",
     "text": [
      "Hola, Tomas\n",
      "Hola, Facundo\n",
      "Hola, Tomas\n",
      "Hola, Facundo\n",
      "Hola, Carla\n"
     ]
    }
   ],
   "source": [
    "def equipo(*miembros):\n",
    "    for i in miembros:\n",
    "        print('Hola,', i)\n",
    "\n",
    "equipo('Tomas', 'Facundo')\n",
    "equipo('Tomas', 'Facundo', 'Carla')"
   ]
  },
  {
   "cell_type": "markdown",
   "metadata": {},
   "source": [
    "Ahora veamos un ejercicio cuando la cantidad de parámetros de la función no es fija y podemos definirlos por su nombre\n",
    "\n",
    "8. Crear una nueva función llamada 'equipo' que permita pasar parámetros con distintos nombres e imprima el nombre de cada parámetro y su valor\n",
    "\n",
    "Ayuda: Con doble asterisco ** podemos indicar que habrá un **número variable de argumentos por nombre** (keyword) en la función.\n",
    "Se usa el asterisco antes del nombre del parámetro (sería: ``def funcion(**kwargs)``: )\n",
    "En este caso los argumentos se pasan como un diccionario, los argumentos conforman un diccionario dentro de la función"
   ]
  },
  {
   "cell_type": "code",
   "execution_count": 73,
   "metadata": {},
   "outputs": [],
   "source": [
    "def equipo(**detalles):\n",
    "    #print(type(detalles)) #tipo: diccionario\n",
    "    \n",
    "    for key,value in detalles.items():\n",
    "        print(f'{key}: {value}')\n",
    "        \n",
    "#equipo(nro_equipo=1, cantidad_miembros=3, paper = \"Blumenstock\", tp=4)\n",
    "\n",
    "#equipo(nro_equipo=1, cantidad_miembros=3, paper = \"Blumenstock\")"
   ]
  },
  {
   "cell_type": "code",
   "execution_count": 74,
   "metadata": {},
   "outputs": [
    {
     "name": "stdout",
     "output_type": "stream",
     "text": [
      "nro_equipo: 1\n",
      "cantidad_miembros: 3\n",
      "paper: Blumenstock\n",
      "tp: 4\n",
      "aguante: boca\n"
     ]
    }
   ],
   "source": [
    "equipo(nro_equipo=1, cantidad_miembros=3, paper = \"Blumenstock\", tp=4, aguante = 'boca')"
   ]
  }
 ],
 "metadata": {
  "kernelspec": {
   "display_name": "Python 3 (ipykernel)",
   "language": "python",
   "name": "python3"
  },
  "language_info": {
   "codemirror_mode": {
    "name": "ipython",
    "version": 3
   },
   "file_extension": ".py",
   "mimetype": "text/x-python",
   "name": "python",
   "nbconvert_exporter": "python",
   "pygments_lexer": "ipython3",
   "version": "3.11.8"
  }
 },
 "nbformat": 4,
 "nbformat_minor": 4
}
